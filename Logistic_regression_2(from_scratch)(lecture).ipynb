{
  "nbformat": 4,
  "nbformat_minor": 0,
  "metadata": {
    "colab": {
      "name": "Logistic_regression_2(from_scratch).ipynb",
      "provenance": [],
      "collapsed_sections": [],
      "authorship_tag": "ABX9TyOM9tuloCDfKgoPtmVdUgWV",
      "include_colab_link": true
    },
    "kernelspec": {
      "name": "python3",
      "display_name": "Python 3"
    }
  },
  "cells": [
    {
      "cell_type": "markdown",
      "metadata": {
        "id": "view-in-github",
        "colab_type": "text"
      },
      "source": [
        "<a href=\"https://colab.research.google.com/github/Chuck2Win/Linear_regression-from-Scratch-/blob/master/Logistic_regression_2(from_scratch)(lecture).ipynb\" target=\"_parent\"><img src=\"https://colab.research.google.com/assets/colab-badge.svg\" alt=\"Open In Colab\"/></a>"
      ]
    },
    {
      "cell_type": "code",
      "metadata": {
        "id": "aFlORwsfV8kW",
        "colab_type": "code",
        "colab": {}
      },
      "source": [
        "import numpy as np\n",
        "import matplotlib.pyplot as plt"
      ],
      "execution_count": 3,
      "outputs": []
    },
    {
      "cell_type": "markdown",
      "metadata": {
        "id": "Ku4IH09uGoyh",
        "colab_type": "text"
      },
      "source": [
        "# 1. plott the training data"
      ]
    },
    {
      "cell_type": "code",
      "metadata": {
        "id": "uFxDDr0nXI2B",
        "colab_type": "code",
        "colab": {
          "base_uri": "https://localhost:8080/",
          "height": 297
        },
        "outputId": "29802304-a2c2-4003-da7e-d413b82c6af3"
      },
      "source": [
        "data=np.genfromtxt('https://raw.githubusercontent.com/Chuck2Win/Linear_regression-from-Scratch-/master/data/data-nonlinear%20(2).txt',delimiter=',')\n",
        "pointX = data[:, 0]\n",
        "pointY = data[:, 1]\n",
        "label = data[:, 2]\n",
        "pointX0 = pointX[label == 0]\n",
        "pointY0 = pointY[label == 0]\n",
        "pointX1 = pointX[label == 1]\n",
        "pointY1 = pointY[label == 1]\n",
        "plt.figure()\n",
        "plt.scatter(pointX0, pointY0, c='b')\n",
        "plt.scatter(pointX1, pointY1, c='r')\n",
        "plt.tight_layout()\n",
        "plt.gca().set_aspect('equal', adjustable='box')\n",
        "plt.show()"
      ],
      "execution_count": 4,
      "outputs": [
        {
          "output_type": "display_data",
          "data": {
            "image/png": "[encoded data removed]",
            "text/plain": [
              "<Figure size 432x288 with 1 Axes>"
            ]
          },
          "metadata": {
            "tags": [],
            "needs_background": "light"
          }
        }
      ]
    },
    {
      "cell_type": "code",
      "metadata": {
        "id": "_jGJaYIqXdcF",
        "colab_type": "code",
        "colab": {}
      },
      "source": [
        "def sigmoid(x):\n",
        "    return 1./(1.+np.exp(-x))\n",
        "\n",
        "def hypothesis(theta,input):\n",
        "    return sigmoid(np.dot(input,theta))\n",
        "    \n",
        "def objective_function(theta,input,label):\n",
        "    return (-label*np.log(hypothesis(theta,input))-(1-label)*np.log(1-hypothesis(theta,input))).mean()\n",
        "    \n",
        "def gradient_descent(theta,input,label,learning_rate):\n",
        "    theta=theta-learning_rate*((hypothesis(theta,input)-label).reshape(-1,1)*input).sum(axis=0)\n",
        "    return theta"
      ],
      "execution_count": 5,
      "outputs": []
    },
    {
      "cell_type": "markdown",
      "metadata": {
        "id": "ieAnNP7euvhN",
        "colab_type": "text"
      },
      "source": [
        "# 2. Write down the high dimensional function \n"
      ]
    },
    {
      "cell_type": "code",
      "metadata": {
        "id": "dhyH54xBu0jv",
        "colab_type": "code",
        "colab": {}
      },
      "source": [
        "def hypothesis(theta,input):\n",
        "    return sigmoid(np.dot(input,theta))"
      ],
      "execution_count": 6,
      "outputs": []
    },
    {
      "cell_type": "markdown",
      "metadata": {
        "id": "9TkxH7zfv1Cu",
        "colab_type": "text"
      },
      "source": [
        "# 3. Plot the training error"
      ]
    },
    {
      "cell_type": "code",
      "metadata": {
        "id": "UhcnGBXEu6N9",
        "colab_type": "code",
        "colab": {}
      },
      "source": [
        "x_train=np.ones((data.shape[0],data.shape[1]))\n",
        "x_train[:,1:]=data[:,:-1]\n",
        "y_train=data[:,-1]"
      ],
      "execution_count": 7,
      "outputs": []
    },
    {
      "cell_type": "code",
      "metadata": {
        "id": "9ILS3YvNxde_",
        "colab_type": "code",
        "colab": {}
      },
      "source": [
        "# 초기값 다 0으로\n",
        "# learning rate 0.00001\n",
        "# epoch 만큼\n",
        "cost=[]\n",
        "ACC=[]\n",
        "epochs=50000\n",
        "theta=np.array([0,0,0]) # theta0,theta1,theta2\n",
        "Theta=[list(theta)] # theta는 np.array인데 list로 바꿔서 append\n",
        "learning_rate=0.00001\n",
        "for epoch in range(epochs):\n",
        "    cost.append(objective_function(theta,x_train,y_train))\n",
        "    theta=gradient_descent(theta,x_train,y_train,learning_rate)\n",
        "    Theta.append(list(theta)) \n",
        "    acc=((hypothesis(theta,x_train)>0.5)==y_train).mean() # 정확도\n",
        "    ACC.append(acc)\n",
        "Theta=np.array(Theta)   "
      ],
      "execution_count": 8,
      "outputs": []
    },
    {
      "cell_type": "code",
      "metadata": {
        "id": "2epVoVK8mdYX",
        "colab_type": "code",
        "colab": {
          "base_uri": "https://localhost:8080/",
          "height": 263
        },
        "outputId": "8b637fda-d077-4ffc-c46a-eb28b16648a1"
      },
      "source": [
        "(hypothesis(theta,x_train)>0.5)==y_train"
      ],
      "execution_count": 14,
      "outputs": [
        {
          "output_type": "execute_result",
          "data": {
            "text/plain": [
              "array([False,  True,  True,  True,  True,  True,  True,  True, False,\n",
              "       False, False, False, False, False, False, False, False, False,\n",
              "        True,  True,  True,  True,  True,  True,  True, False, False,\n",
              "       False,  True,  True,  True,  True,  True,  True,  True,  True,\n",
              "        True,  True, False, False, False, False, False, False, False,\n",
              "       False, False, False, False, False, False, False,  True,  True,\n",
              "        True,  True,  True,  True,  True,  True,  True,  True,  True,\n",
              "        True,  True,  True,  True,  True,  True,  True,  True,  True,\n",
              "        True,  True,  True,  True,  True,  True,  True,  True,  True,\n",
              "       False, False, False, False, False, False, False, False, False,\n",
              "       False, False,  True,  True, False,  True,  True,  True,  True,\n",
              "        True,  True,  True, False, False, False, False, False, False,\n",
              "       False, False, False, False, False, False, False, False,  True,\n",
              "        True])"
            ]
          },
          "metadata": {
            "tags": []
          },
          "execution_count": 14
        }
      ]
    },
    {
      "cell_type": "code",
      "metadata": {
        "id": "rf_r6klbx1i3",
        "colab_type": "code",
        "colab": {
          "base_uri": "https://localhost:8080/",
          "height": 265
        },
        "outputId": "c98d0d58-1fff-4e9b-e688-a58339a677b2"
      },
      "source": [
        "plt.plot(cost,label='training_data')\n",
        "plt.legend(loc=0)\n",
        "plt.show()"
      ],
      "execution_count": 9,
      "outputs": [
        {
          "output_type": "display_data",
          "data": {
            "image/png": "[encoded data removed]",
            "text/plain": [
              "<Figure size 432x288 with 1 Axes>"
            ]
          },
          "metadata": {
            "tags": [],
            "needs_background": "light"
          }
        }
      ]
    },
    {
      "cell_type": "markdown",
      "metadata": {
        "id": "tuY0Q9XCyfZT",
        "colab_type": "text"
      },
      "source": [
        "#4. Plot the training accuracy"
      ]
    },
    {
      "cell_type": "code",
      "metadata": {
        "id": "uSw17jpByePH",
        "colab_type": "code",
        "colab": {
          "base_uri": "https://localhost:8080/",
          "height": 265
        },
        "outputId": "a9dd2df2-549f-4042-fb0f-00acc6eb1368"
      },
      "source": [
        "plt.plot(ACC,label='training_acc')\n",
        "plt.legend(loc=0)\n",
        "plt.show()"
      ],
      "execution_count": 10,
      "outputs": [
        {
          "output_type": "display_data",
          "data": {
            "image/png": "[encoded data removed]",
            "text/plain": [
              "<Figure size 432x288 with 1 Axes>"
            ]
          },
          "metadata": {
            "tags": [],
            "needs_background": "light"
          }
        }
      ]
    },
    {
      "cell_type": "markdown",
      "metadata": {
        "id": "hb-qcqBDyuC6",
        "colab_type": "text"
      },
      "source": [
        "# 5. Write down the final training accuracy"
      ]
    },
    {
      "cell_type": "code",
      "metadata": {
        "id": "N_xzKGaVys_5",
        "colab_type": "code",
        "colab": {
          "base_uri": "https://localhost:8080/",
          "height": 34
        },
        "outputId": "90f499cd-1a0f-4504-ed89-5ece559c7cd0"
      },
      "source": [
        "print(ACC[-1])"
      ],
      "execution_count": 11,
      "outputs": [
        {
          "output_type": "stream",
          "text": [
            "0.5423728813559322\n"
          ],
          "name": "stdout"
        }
      ]
    },
    {
      "cell_type": "markdown",
      "metadata": {
        "id": "RNIcdIK9y2RK",
        "colab_type": "text"
      },
      "source": [
        "# 6. Plot the optimal classifier superimposed on the training data.\n"
      ]
    },
    {
      "cell_type": "code",
      "metadata": {
        "id": "B5oI-EKKntF3",
        "colab_type": "code",
        "colab": {
          "base_uri": "https://localhost:8080/",
          "height": 34
        },
        "outputId": "5e94f036-43c8-44e8-bd63-ba50f1944ce5"
      },
      "source": [
        "Z.shape"
      ],
      "execution_count": 25,
      "outputs": [
        {
          "output_type": "execute_result",
          "data": {
            "text/plain": [
              "(77, 79)"
            ]
          },
          "metadata": {
            "tags": []
          },
          "execution_count": 25
        }
      ]
    },
    {
      "cell_type": "code",
      "metadata": {
        "id": "TleWfiEU0Td9",
        "colab_type": "code",
        "colab": {
          "base_uri": "https://localhost:8080/",
          "height": 297
        },
        "outputId": "d71484e7-bb63-4642-e1d0-7ce8d61d6759"
      },
      "source": [
        "xx, yy = np.meshgrid(np.arange(pointX.min()-1, pointX.max()+1, 0.05), np.arange(pointY.min()-1, pointX.max()+1,0.05))\n",
        "X = np.vstack( ( xx.reshape(1, np.product(xx.shape)), yy.reshape(1, np.product(yy.shape)) ) ).T # T는 전치\n",
        "temp = np.ones((X.shape[0],X.shape[1]+1))\n",
        "temp[:,1:] = X\n",
        "# Predict the function value for the whole grid\n",
        "pred = (hypothesis(theta,temp)>0.5)\n",
        "Z = pred.reshape(xx.shape)\n",
        "# Plot the contour and training examples <- 앞 선 문제라고 생각하면 됨.\n",
        "\n",
        "plt.figure()\n",
        "plt.contourf(xx, yy, Z)\n",
        "plt.scatter(pointX0, pointY0, c='b')\n",
        "plt.scatter(pointX1, pointY1, c='r')\n",
        "plt.tight_layout()\n",
        "plt.gca().set_aspect('equal', adjustable='box')\n",
        "plt.show()"
      ],
      "execution_count": 12,
      "outputs": [
        {
          "output_type": "display_data",
          "data": {
            "image/png": "[encoded data removed]",
            "text/plain": [
              "<Figure size 432x288 with 1 Axes>"
            ]
          },
          "metadata": {
            "tags": [],
            "needs_background": "light"
          }
        }
      ]
    }
  ]
}